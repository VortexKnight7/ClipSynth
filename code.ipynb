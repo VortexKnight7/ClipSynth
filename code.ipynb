{
 "cells": [
  {
   "cell_type": "code",
   "execution_count": 2,
   "metadata": {},
   "outputs": [],
   "source": [
    "import youtube_transcript_api\n",
    "from youtube_transcript_api import YouTubeTranscriptApi\n",
    "import nltk\n",
    "import re\n",
    "from nltk.corpus import stopwords\n",
    "import sklearn\n",
    "from sklearn.feature_extraction.text import TfidfVectorizer\n",
    "import numpy as np"
   ]
  },
  {
   "cell_type": "code",
   "execution_count": 3,
   "metadata": {},
   "outputs": [],
   "source": [
    "link = \"https://www.youtube.com/watch?v=Y8Tko2YC5hA\" \n",
    "# link = \"https://www.youtube.com/watch?v=iOdFUJiB0Zc\"\n",
    "unique_id = link.split(\"=\")[-1]\n",
    "sub = YouTubeTranscriptApi.get_transcript(unique_id)  \n",
    "subtitle = \" \".join([x['text'] for x in sub])"
   ]
  },
  {
   "cell_type": "code",
   "execution_count": 4,
   "metadata": {},
   "outputs": [
    {
     "data": {
      "text/plain": [
       "'In this video, I\\'m going to answer the top 3 questions my students ask me about Python. What is Python? What  can you do with it? And why is it so popular? In other words, what does it do that other programming languages don\\'t? Python is the  world\\'s fastest growing and most popular programming language, not just  amongst software engineers, but also amongst mathematicians,  data analysts, scientists, accountants, networking engineers, and even kids! Because it\\'s a very beginner friendly programming  language. So people from different disciplines use Python for a variety of different tasks, such as data analysis and visualization,  artificial intelligence and machine learning, automation  in fact this is one of the big uses of Python amongst people who are not software developers. If you constantly have to do boring, repetitive  tasks, such as copying files and folders around, renaming them,  uploading them to a server, you can easily write a Python script to automate all that and save your time. And that\\'s just one example, if you continuously have to work with excel spreadsheets, PDF\\'s, CS View files, download websites and parse them, you can automate all that stuff with Python. So you don\\'t have to be a software developer to use Python. You could be an accountant, a mathematician, or a scientist, and use Python  to make your life easier. You can also use Python to build  web, mobile and desktop applications as well as software  testing or even hacking. So Python is a multi purpose language.  Now if you have some programming experience you may say, \"But Mosh we can do all this stuff with other programming languages, so what\\'s the big deal  about Python?\" Here are a few reasons. With Python you can  solve complex problems in less time with fewer lines of code.  Here\\'s an example. Let\\'s say we want to extract the first three  letters of the text Hello World. This is the code we have to write  in C# this is how we do it in JavaScript and here\\'s how we  do it in Python. See how short and clean the language is? And that\\'s just the beginning. Python makes a lot of trivial things really easy with a simple yet powerful syntax. Here are a few other reasons Python is so popular. It\\'s a high level language so you don\\'t have to worry about complex tasks such as memory management,  like you do in C++. It\\'s cross platform which means  you can build and run Python applications on Windows, Mac,  and Linux. It has a huge community so whenever you get  stuck, there is someone out there to help. It has a large ecosystem  of libraries, frameworks and tools which means whatever you wanna do it is likely that someone else has done it before because Python has been around  for over 20 years. So in a nutshell, Python is a multi-purpose language with a simple, clean, and beginner-friendly  syntax. All of that means Python is awesome. Technically everything you do with Python you can do with other programming languages,  but Python\\'s simplicity and elegance has made it grow way  more than other programming languages. That\\'s why it\\'s the number onne language employers are looking for. So whether you\\'re a programmer or  an absolute beginner, learning Python opens up lots of job opportunities  to you. In fact, the average Python developer earns a whopping 116,000 dollars a year. If you found this video helpful, please support my hard work by liking and sharing it with others.  Also, be sure to subscribe to my channel, because I have a couple of awesome Python tutorials for you, you\\'re going to see them on the screen now.  Here\\'s my Python tutorial for beginners, it\\'s a great starting point if you  have limited or no programming experience. On the other hand, if you  do have some programming experience and want to quickly get up to speed with Python,  I have another tutorial just for you. I\\'m not going to waste your time  telling you what a variable or a function is. I will talk to you like a programmer. There\\'s never been a better time to master Python programming, so click on the tutorial that is right for you and get started. Thank you for watching!'"
      ]
     },
     "execution_count": 4,
     "metadata": {},
     "output_type": "execute_result"
    }
   ],
   "source": [
    "subtitle"
   ]
  },
  {
   "cell_type": "code",
   "execution_count": 5,
   "metadata": {},
   "outputs": [],
   "source": [
    "from nltk.tokenize import sent_tokenize"
   ]
  },
  {
   "cell_type": "code",
   "execution_count": 6,
   "metadata": {},
   "outputs": [],
   "source": [
    "subtitle = subtitle.replace(\"\\n\",\"\")\n",
    "sentences = sent_tokenize(subtitle)"
   ]
  },
  {
   "cell_type": "code",
   "execution_count": 7,
   "metadata": {},
   "outputs": [
    {
     "data": {
      "text/plain": [
       "[\"In this video, I'm going to answer the top 3 questions my students ask me about Python.\",\n",
       " 'What is Python?',\n",
       " 'What  can you do with it?',\n",
       " 'And why is it so popular?',\n",
       " \"In other words, what does it do that other programming languages don't?\",\n",
       " \"Python is the  world's fastest growing and most popular programming language, not just  amongst software engineers, but also amongst mathematicians,  data analysts, scientists, accountants, networking engineers, and even kids!\",\n",
       " \"Because it's a very beginner friendly programming  language.\",\n",
       " 'So people from different disciplines use Python for a variety of different tasks, such as data analysis and visualization,  artificial intelligence and machine learning, automation  in fact this is one of the big uses of Python amongst people who are not software developers.',\n",
       " 'If you constantly have to do boring, repetitive  tasks, such as copying files and folders around, renaming them,  uploading them to a server, you can easily write a Python script to automate all that and save your time.',\n",
       " \"And that's just one example, if you continuously have to work with excel spreadsheets, PDF's, CS View files, download websites and parse them, you can automate all that stuff with Python.\",\n",
       " \"So you don't have to be a software developer to use Python.\",\n",
       " 'You could be an accountant, a mathematician, or a scientist, and use Python  to make your life easier.',\n",
       " 'You can also use Python to build  web, mobile and desktop applications as well as software  testing or even hacking.',\n",
       " 'So Python is a multi purpose language.',\n",
       " 'Now if you have some programming experience you may say, \"But Mosh we can do all this stuff with other programming languages, so what\\'s the big deal  about Python?\"',\n",
       " 'Here are a few reasons.',\n",
       " 'With Python you can  solve complex problems in less time with fewer lines of code.',\n",
       " \"Here's an example.\",\n",
       " \"Let's say we want to extract the first three  letters of the text Hello World.\",\n",
       " \"This is the code we have to write  in C# this is how we do it in JavaScript and here's how we  do it in Python.\",\n",
       " 'See how short and clean the language is?',\n",
       " \"And that's just the beginning.\",\n",
       " 'Python makes a lot of trivial things really easy with a simple yet powerful syntax.',\n",
       " 'Here are a few other reasons Python is so popular.',\n",
       " \"It's a high level language so you don't have to worry about complex tasks such as memory management,  like you do in C++.\",\n",
       " \"It's cross platform which means  you can build and run Python applications on Windows, Mac,  and Linux.\",\n",
       " 'It has a huge community so whenever you get  stuck, there is someone out there to help.',\n",
       " 'It has a large ecosystem  of libraries, frameworks and tools which means whatever you wanna do it is likely that someone else has done it before because Python has been around  for over 20 years.',\n",
       " 'So in a nutshell, Python is a multi-purpose language with a simple, clean, and beginner-friendly  syntax.',\n",
       " 'All of that means Python is awesome.',\n",
       " \"Technically everything you do with Python you can do with other programming languages,  but Python's simplicity and elegance has made it grow way  more than other programming languages.\",\n",
       " \"That's why it's the number onne language employers are looking for.\",\n",
       " \"So whether you're a programmer or  an absolute beginner, learning Python opens up lots of job opportunities  to you.\",\n",
       " 'In fact, the average Python developer earns a whopping 116,000 dollars a year.',\n",
       " 'If you found this video helpful, please support my hard work by liking and sharing it with others.',\n",
       " \"Also, be sure to subscribe to my channel, because I have a couple of awesome Python tutorials for you, you're going to see them on the screen now.\",\n",
       " \"Here's my Python tutorial for beginners, it's a great starting point if you  have limited or no programming experience.\",\n",
       " 'On the other hand, if you  do have some programming experience and want to quickly get up to speed with Python,  I have another tutorial just for you.',\n",
       " \"I'm not going to waste your time  telling you what a variable or a function is.\",\n",
       " 'I will talk to you like a programmer.',\n",
       " \"There's never been a better time to master Python programming, so click on the tutorial that is right for you and get started.\",\n",
       " 'Thank you for watching!']"
      ]
     },
     "execution_count": 7,
     "metadata": {},
     "output_type": "execute_result"
    }
   ],
   "source": [
    "sentences"
   ]
  },
  {
   "cell_type": "code",
   "execution_count": 39,
   "metadata": {},
   "outputs": [],
   "source": [
    "organized_sent = {k:v for v,k in enumerate(sentences)}"
   ]
  },
  {
   "cell_type": "code",
   "execution_count": 40,
   "metadata": {},
   "outputs": [],
   "source": [
    "# tf_idf = TfidfVectorizer(min_df=2, \n",
    "#                                     strip_accents='unicode',\n",
    "#                                     max_features=None,\n",
    "#                                     lowercase = True,\n",
    "#                                     token_pattern=r'w{1,}',\n",
    "#                                     ngram_range=(1, 3), \n",
    "#                                     use_idf=1,\n",
    "#                                     smooth_idf=1,\n",
    "#                                     sublinear_tf=1,\n",
    "#                                     stop_words = 'english')\n",
    "tf_idf = TfidfVectorizer(min_df=2, \n",
    "                         strip_accents='unicode',\n",
    "                         max_features=None,\n",
    "                         lowercase=True,\n",
    "                         token_pattern=r'\\w{1,}',\n",
    "                         ngram_range=(1, 3), \n",
    "                         use_idf=True,\n",
    "                         smooth_idf=True,  # Changed to True\n",
    "                         sublinear_tf=True,\n",
    "                         stop_words='english')"
   ]
  },
  {
   "cell_type": "code",
   "execution_count": 21,
   "metadata": {},
   "outputs": [],
   "source": [
    "sentence_vectors = tf_idf.fit_transform(sentences)\n",
    "sent_scores = np.array(sentence_vectors.sum(axis=1)).ravel()"
   ]
  },
  {
   "cell_type": "code",
   "execution_count": 22,
   "metadata": {},
   "outputs": [],
   "source": [
    "N = 3\n",
    "top_n_sentences = [sentences[index] for index in np.argsort(sent_scores, axis=0)[::-1][:N]]"
   ]
  },
  {
   "cell_type": "code",
   "execution_count": null,
   "metadata": {},
   "outputs": [],
   "source": [
    "# mapping the scored sentences with their indexes as in the subtitle\n",
    "mapped_sentences = [(sentence,organized_sent[sentence]) for sentence in top_n_sentences]\n",
    "# Ordering the top-n sentences in their original order\n",
    "mapped_sentences = sorted(mapped_sentences, key = lambda x: x[1])\n",
    "ordered_sentences = [element[0] for element in mapped_sentences]\n",
    "# joining the ordered sentence\n",
    "summary = \" \".join(ordered_sentences)\n",
    "summary"
   ]
  },
  {
   "cell_type": "markdown",
   "metadata": {},
   "source": [
    "# Using Transformers"
   ]
  },
  {
   "cell_type": "code",
   "execution_count": 8,
   "metadata": {},
   "outputs": [
    {
     "name": "stderr",
     "output_type": "stream",
     "text": [
      "g:\\SEM 7\\Major\\Project\\Flask\\env\\Lib\\site-packages\\tqdm\\auto.py:21: TqdmWarning: IProgress not found. Please update jupyter and ipywidgets. See https://ipywidgets.readthedocs.io/en/stable/user_install.html\n",
      "  from .autonotebook import tqdm as notebook_tqdm\n",
      "g:\\SEM 7\\Major\\Project\\Flask\\env\\Lib\\site-packages\\huggingface_hub\\file_download.py:139: UserWarning: `huggingface_hub` cache-system uses symlinks by default to efficiently store duplicated files but your machine does not support them in C:\\Users\\Acer\\.cache\\huggingface\\hub\\models--VortexKnight7--Video-Summ. Caching files will still work but in a degraded version that might require more space on your disk. This warning can be disabled by setting the `HF_HUB_DISABLE_SYMLINKS_WARNING` environment variable. For more details, see https://huggingface.co/docs/huggingface_hub/how-to-cache#limitations.\n",
      "To support symlinks on Windows, you either need to activate Developer Mode or to run Python as an administrator. In order to activate developer mode, see this article: https://docs.microsoft.com/en-us/windows/apps/get-started/enable-your-device-for-development\n",
      "  warnings.warn(message)\n",
      "Downloading shards: 100%|██████████| 2/2 [28:32<00:00, 856.28s/it] \n",
      "Loading checkpoint shards: 100%|██████████| 2/2 [00:51<00:00, 25.89s/it]\n"
     ]
    }
   ],
   "source": [
    "# import transformers\n",
    "# from transformers import BartTokenizer, BartForConditionalGeneration\n",
    "# # Load model directly\n",
    "from transformers import AutoTokenizer, AutoModelForCausalLM\n",
    "\n",
    "tokenizer = AutoTokenizer.from_pretrained(\"VortexKnight7/Video-Summ\")\n",
    "model = AutoModelForCausalLM.from_pretrained(\"VortexKnight7/Video-Summ\")"
   ]
  },
  {
   "cell_type": "code",
   "execution_count": 45,
   "metadata": {},
   "outputs": [],
   "source": [
    "# tokenizer = BartTokenizer.from_pretrained('facebook/bart-large-cnn')\n",
    "# model = BartForConditionalGeneration.from_pretrained('facebook/bart-large-cnn')"
   ]
  },
  {
   "cell_type": "code",
   "execution_count": 9,
   "metadata": {},
   "outputs": [
    {
     "name": "stderr",
     "output_type": "stream",
     "text": [
      "Truncation was not explicitly activated but `max_length` is provided a specific value, please use `truncation=True` to explicitly truncate examples to max length. Defaulting to 'longest_first' truncation strategy. If you encode pairs of sequences (GLUE-style) with the tokenizer you can select this strategy more precisely by providing a specific strategy to `truncation`.\n"
     ]
    }
   ],
   "source": [
    "input_tensor = tokenizer.encode( subtitle, return_tensors=\"pt\", max_length=512)"
   ]
  },
  {
   "cell_type": "code",
   "execution_count": null,
   "metadata": {},
   "outputs": [],
   "source": [
    "outputs_tensor = model.generate(input_tensor,max_new_tokens =150, min_length=120, length_penalty=2.0, num_beams=4, early_stopping=True)\n",
    "# outputs_tensor = model.generate(input_tensor,max_new_tokens =150, max_length=160, min_length=120, length_penalty=2.0, num_beams=4, early_stopping=True)\n",
    "outputs_tensor"
   ]
  },
  {
   "cell_type": "code",
   "execution_count": null,
   "metadata": {},
   "outputs": [],
   "source": [
    "print(tokenizer.decode(outputs_tensor[0]))"
   ]
  },
  {
   "cell_type": "markdown",
   "metadata": {},
   "source": [
    "# Using Pipeline"
   ]
  },
  {
   "cell_type": "code",
   "execution_count": 30,
   "metadata": {},
   "outputs": [],
   "source": [
    "from transformers import pipeline"
   ]
  },
  {
   "cell_type": "code",
   "execution_count": null,
   "metadata": {},
   "outputs": [],
   "source": [
    "summarizer = pipeline('summarization', model=\"facebook/bart-large-cnn\")\n",
    "pipeline_summary = summarizer(subtitle, max_length=180, min_length=30, truncation=True)[0]['summary_text']\n",
    "print(\"\\nPipeline Summary:\\n\", pipeline_summary)"
   ]
  },
  {
   "cell_type": "code",
   "execution_count": null,
   "metadata": {},
   "outputs": [],
   "source": [
    "# summary = summarizer(subtitle, max_length = 180, min_length =  30)"
   ]
  },
  {
   "cell_type": "code",
   "execution_count": null,
   "metadata": {},
   "outputs": [],
   "source": [
    "import youtube_transcript_api\n",
    "from youtube_transcript_api import YouTubeTranscriptApi\n",
    "import nltk\n",
    "from nltk.tokenize import sent_tokenize\n",
    "from sklearn.feature_extraction.text import TfidfVectorizer\n",
    "import numpy as np\n",
    "from transformers import BartTokenizer, BartForConditionalGeneration, pipeline\n",
    "\n",
    "# Fetch the transcript\n",
    "link = \"https://www.youtube.com/watch?v=Y8Tko2YC5hA\" \n",
    "unique_id = link.split(\"=\")[-1]\n",
    "sub = YouTubeTranscriptApi.get_transcript(unique_id)\n",
    "subtitle = \" \".join([x['text'] for x in sub])\n",
    "\n",
    "# Sentence tokenization\n",
    "subtitle = subtitle.replace(\"\\n\", \"\")\n",
    "sentences = sent_tokenize(subtitle)\n",
    "organized_sent = {k: v for v, k in enumerate(sentences)}\n",
    "\n",
    "# TF-IDF Vectorization\n",
    "tf_idf = TfidfVectorizer(min_df=2, \n",
    "                         strip_accents='unicode',\n",
    "                         max_features=None,\n",
    "                         lowercase=True,\n",
    "                         token_pattern=r'\\w{1,}',\n",
    "                         ngram_range=(1, 3), \n",
    "                         use_idf=True,\n",
    "                         smooth_idf=True,  # Changed to True\n",
    "                         sublinear_tf=True,\n",
    "                         stop_words='english')\n",
    "\n",
    "sentence_vectors = tf_idf.fit_transform(sentences)\n",
    "sent_scores = np.array(sentence_vectors.sum(axis=1)).ravel()\n",
    "\n",
    "# Top-N sentences\n",
    "N = 3\n",
    "top_n_sentences = [sentences[index] for index in np.argsort(sent_scores, axis=0)[::-1][:N]]\n",
    "\n",
    "# Mapping the scored sentences with their indexes as in the subtitle\n",
    "mapped_sentences = [(sentence, organized_sent[sentence]) for sentence in top_n_sentences]\n",
    "\n",
    "# Ordering the top-n sentences in their original order\n",
    "mapped_sentences = sorted(mapped_sentences, key=lambda x: x[1])\n",
    "ordered_sentences = [element[0] for element in mapped_sentences]\n",
    "\n",
    "# Joining the ordered sentences to form the summary\n",
    "summary = \" \".join(ordered_sentences)\n",
    "print(\"TF-IDF Summary:\\n\", summary)\n",
    "\n",
    "# BART Model Summarization\n",
    "tokenizer = BartTokenizer.from_pretrained('facebook/bart-large-cnn')\n",
    "model = BartForConditionalGeneration.from_pretrained('facebook/bart-large-cnn')\n",
    "\n",
    "# Encoding and generating summary\n",
    "input_tensor = tokenizer.encode(subtitle, return_tensors=\"pt\", max_length=1024, truncation=True)\n",
    "outputs_tensor = model.generate(input_tensor, max_length=160, min_length=120, length_penalty=2.0, num_beams=4, early_stopping=True)\n",
    "bart_summary = tokenizer.decode(outputs_tensor[0], skip_special_tokens=True)\n",
    "print(\"\\nBART Model Summary:\\n\", bart_summary)\n",
    "\n",
    "# Using the Hugging Face pipeline for summarization\n",
    "summarizer = pipeline('summarization', model=\"facebook/bart-large-cnn\")\n",
    "pipeline_summary = summarizer(subtitle, max_length=180, min_length=30, truncation=True)[0]['summary_text']\n",
    "print(\"\\nPipeline Summary:\\n\", pipeline_summary)"
   ]
  },
  {
   "cell_type": "code",
   "execution_count": null,
   "metadata": {},
   "outputs": [],
   "source": []
  }
 ],
 "metadata": {
  "kernelspec": {
   "display_name": "env",
   "language": "python",
   "name": "python3"
  },
  "language_info": {
   "codemirror_mode": {
    "name": "ipython",
    "version": 3
   },
   "file_extension": ".py",
   "mimetype": "text/x-python",
   "name": "python",
   "nbconvert_exporter": "python",
   "pygments_lexer": "ipython3",
   "version": "3.12.5"
  }
 },
 "nbformat": 4,
 "nbformat_minor": 2
}
